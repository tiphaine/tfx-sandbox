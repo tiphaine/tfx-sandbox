{
 "cells": [
  {
   "cell_type": "markdown",
   "metadata": {},
   "source": [
    "# TFX Workflow\n",
    "---"
   ]
  },
  {
   "cell_type": "markdown",
   "metadata": {},
   "source": [
    "## TL;DR\n",
    "\n",
    "TFX is an amazing tool for production, as many Google products can testify. But it can also be used before production, during the development phase, in order to reduce the time needed between dev and prod.\n",
    "Let's see in this tutorial how one can leverage this tool in order to improve the development experience."
   ]
  },
  {
   "cell_type": "markdown",
   "metadata": {},
   "source": [
    "## First Things First "
   ]
  },
  {
   "cell_type": "markdown",
   "metadata": {},
   "source": [
    "### - Watch this video"
   ]
  },
  {
   "cell_type": "code",
   "execution_count": 1,
   "metadata": {
    "scrolled": false
   },
   "outputs": [
    {
     "data": {
      "text/html": [
       "<iframe width=\"824\" height=\"463\" src=\"https://www.youtube.com/embed/drYM04t57tU\" frameborder=\"0\" allow=\"accelerometer; autoplay; encrypted-media; gyroscope; picture-in-picture\" allowfullscreen></iframe>"
      ],
      "text/plain": [
       "<IPython.core.display.HTML object>"
      ]
     },
     "metadata": {},
     "output_type": "display_data"
    }
   ],
   "source": [
    "%%HTML\n",
    "<iframe width=\"824\" height=\"463\" src=\"https://www.youtube.com/embed/drYM04t57tU\" frameborder=\"0\" allow=\"accelerometer; autoplay; encrypted-media; gyroscope; picture-in-picture\" allowfullscreen></iframe>"
   ]
  },
  {
   "cell_type": "markdown",
   "metadata": {},
   "source": [
    "### - Read the [TFX User Guide](https://www.tensorflow.org/tfx/guide) until the [Deployment Targets](https://www.tensorflow.org/tfx/guide#deployment_targets) section included"
   ]
  },
  {
   "cell_type": "markdown",
   "metadata": {},
   "source": [
    "## Some imports"
   ]
  },
  {
   "cell_type": "code",
   "execution_count": 2,
   "metadata": {},
   "outputs": [],
   "source": [
    "import os\n",
    "import sys\n",
    "\n",
    "sys.path.append(\"../../utils\")\n",
    "from pipeline_utils import PipelineStep, create_pipeline_file, write_pipeline_to_dags\n",
    "import tfx_utils\n",
    "\n",
    "import tensorflow_data_validation as tfdv\n",
    "import tensorflow_model_analysis as tfma\n",
    "\n",
    "from tfx.utils import io_utils\n",
    "from tensorflow_metadata.proto.v0 import schema_pb2\n",
    "from tensorflow_transform.tf_metadata import schema_utils\n",
    "from tensorflow_transform.tf_metadata import dataset_metadata\n",
    "from tensorflow_transform.tf_metadata import dataset_schema\n",
    "\n",
    "%matplotlib notebook"
   ]
  },
  {
   "cell_type": "markdown",
   "metadata": {},
   "source": [
    "## Setup"
   ]
  },
  {
   "cell_type": "code",
   "execution_count": 3,
   "metadata": {},
   "outputs": [],
   "source": [
    "project = \"titanic\"\n",
    "pipeline_name = project + \"_pipeline\"\n",
    "metadata_uri = os.path.join(os.environ['METADATA_DB_DIR'], project, 'metadata.db')\n",
    "store = tfx_utils.TFXReadonlyMetadataStore.from_sqlite_db(metadata_uri)"
   ]
  },
  {
   "cell_type": "markdown",
   "metadata": {},
   "source": [
    "## Workflow"
   ]
  },
  {
   "cell_type": "markdown",
   "metadata": {},
   "source": [
    "A data science workflow is an iterative process, we first start with the data, inspect them, clean them, create some features, inspect them again, build a model, analyze it, restart at any previous stage if needed, then eventually deploy the model. TFX brings us key components in order to build this steps. Let's see how we can iterate over the workflow in order to create our model."
   ]
  },
  {
   "cell_type": "markdown",
   "metadata": {},
   "source": [
    "### Data Validation"
   ]
  },
  {
   "cell_type": "markdown",
   "metadata": {},
   "source": [
    "The first stage of the workflow is to load the data and inspect them.\n",
    "In order to do so, we will need to, first, load the data ([CsvExampleGen](https://www.tensorflow.org/tfx/guide/examplegen)), then create a statistical representation of it ([StatisticsGen](https://www.tensorflow.org/tfx/guide/statsgen)) in order to create some schema ([SchemaGen](https://www.tensorflow.org/tfx/guide/schemagen)) which will be used in order to validate ([ExampleValidator](https://www.tensorflow.org/tfx/guide/exampleval)) the data to monitor any changes."
   ]
  },
  {
   "cell_type": "markdown",
   "metadata": {},
   "source": [
    "#### Pipeline"
   ]
  },
  {
   "cell_type": "markdown",
   "metadata": {},
   "source": [
    "We use the *create_pipeline_file* tool function in order to create a tfx pipeline for the **Data Validation** phase"
   ]
  },
  {
   "cell_type": "code",
   "execution_count": 4,
   "metadata": {},
   "outputs": [
    {
     "name": "stdout",
     "output_type": "stream",
     "text": [
      "\n",
      "import os\n",
      "import logging\n",
      "import datetime\n",
      "\n",
      "from tfx.orchestration.airflow.airflow_runner import AirflowDAGRunner\n",
      "from tfx.orchestration.pipeline import PipelineDecorator\n",
      "from tfx.utils.dsl_utils import csv_input\n",
      "from tfx.proto import trainer_pb2, evaluator_pb2, pusher_pb2\n",
      "\n",
      "from tfx.components.example_gen.csv_example_gen.component import CsvExampleGen\n",
      "from tfx.components.statistics_gen.component import StatisticsGen\n",
      "from tfx.components.schema_gen.component import SchemaGen\n",
      "from tfx.components.example_validator.component import ExampleValidator\n",
      "from tfx.components.transform.component import Transform\n",
      "from tfx.components.trainer.component import Trainer\n",
      "from tfx.components.evaluator.component import Evaluator\n",
      "from tfx.components.model_validator.component import ModelValidator\n",
      "from tfx.components.pusher.component import Pusher\n",
      "\n",
      "\n",
      "data_dir = os.path.join(os.environ['DATA_DIR'], 'titanic')\n",
      "log_dir = os.path.join(os.environ['TFX_DIR'], 'logs')\n",
      "serving_model_dir = os.path.join(os.environ['SERVING_DIR'], 'serving_model', 'titanic')\n",
      "project_preprocessing_file = os.path.join(os.environ['DAGS_DIR'], 'titanic_preprocessing.py')\n",
      "project_training_file = os.path.join(os.environ['DAGS_DIR'], 'titanic_modeling.py')\n",
      "\n",
      "logger_overrides = dict([\n",
      "    ('log_root', log_dir),\n",
      "    ('log_level', logging.INFO)\n",
      "])\n",
      "\n",
      "airflow_config = dict([\n",
      "    ('schedule_interval', None),\n",
      "    ('start_date', datetime.datetime(2019, 1, 1))\n",
      "])\n",
      "\n",
      "@PipelineDecorator(\n",
      "    pipeline_name='titanic',\n",
      "    enable_cache=True,\n",
      "    metadata_db_root=os.environ['METADATA_DB_DIR'],\n",
      "    additional_pipeline_args=dict([('logger_args', logger_overrides)]),\n",
      "    pipeline_root=os.environ['PIPELINE_DIR']\n",
      ")\n",
      "def create_pipeline():\n",
      "    \n",
      "    pipeline = []\n",
      "    \n",
      "         \n",
      "    examples = csv_input(data_dir)\n",
      "\n",
      "    # Brings data into the pipeline\n",
      "    example_gen = CsvExampleGen(input_base=examples)\n",
      "    pipeline.append(example_gen)\n",
      "    \n",
      "    # Computes statistics over data for visualization and example validation.\n",
      "    statistics_gen = StatisticsGen(input_data=example_gen.outputs.examples)\n",
      "    pipeline.append(statistics_gen)\n",
      "\n",
      "    # Generates schema based on statistics files.\n",
      "    infer_schema = SchemaGen(stats=statistics_gen.outputs.output)\n",
      "    pipeline.append(infer_schema)\n",
      "\n",
      "    # Performs anomaly detection based on statistics and data schema.\n",
      "    validate_stats = ExampleValidator(\n",
      "        stats=statistics_gen.outputs.output,\n",
      "        schema=infer_schema.outputs.output\n",
      "    )\n",
      "    pipeline.append(validate_stats)\n",
      "    \n",
      "    \n",
      "    return pipeline\n",
      "\n",
      "pipeline = AirflowDAGRunner(airflow_config).run(create_pipeline())\n",
      "\n"
     ]
    }
   ],
   "source": [
    "pipeline_file = create_pipeline_file(PipelineStep.DATA_VALIDATION, project)\n",
    "write_pipeline_to_dags(pipeline_file, pipeline_name)\n",
    "print(pipeline_file)"
   ]
  },
  {
   "cell_type": "markdown",
   "metadata": {},
   "source": [
    "> We can now go in [Airflow](http://localhost:8080/admin/airflow/graph?dag_id=titanic) and click **Refresh** in order to update the dag, then **Triger DAG** in order to run it"
   ]
  },
  {
   "cell_type": "markdown",
   "metadata": {},
   "source": [
    "#### Visualization"
   ]
  },
  {
   "cell_type": "markdown",
   "metadata": {},
   "source": [
    "As seen in the [TFX User Guide](https://www.tensorflow.org/tfx/guide), the outputs of components are stored in the meta-datastore by the publishers. Thus we can query the store in order to grap some infos on this outputs (artifacts)."
   ]
  },
  {
   "cell_type": "code",
   "execution_count": 5,
   "metadata": {},
   "outputs": [
    {
     "data": {
      "text/html": [
       "<div>\n",
       "<style scoped>\n",
       "    .dataframe tbody tr th:only-of-type {\n",
       "        vertical-align: middle;\n",
       "    }\n",
       "\n",
       "    .dataframe tbody tr th {\n",
       "        vertical-align: top;\n",
       "    }\n",
       "\n",
       "    .dataframe thead th {\n",
       "        text-align: right;\n",
       "    }\n",
       "</style>\n",
       "<table border=\"1\" class=\"dataframe\">\n",
       "  <thead>\n",
       "    <tr style=\"text-align: right;\">\n",
       "      <th></th>\n",
       "      <th>ID</th>\n",
       "    </tr>\n",
       "  </thead>\n",
       "  <tbody>\n",
       "  </tbody>\n",
       "</table>\n",
       "</div>"
      ],
      "text/plain": [
       "Empty DataFrame\n",
       "Columns: [ID]\n",
       "Index: []"
      ]
     },
     "execution_count": 5,
     "metadata": {},
     "output_type": "execute_result"
    }
   ],
   "source": [
    "artifacts_infos = store.get_artifacts_of_type_df(tfx_utils.TFXArtifactTypes.EXAMPLES).reset_index()\n",
    "artifacts_infos"
   ]
  },
  {
   "cell_type": "code",
   "execution_count": 13,
   "metadata": {
    "scrolled": false
   },
   "outputs": [
    {
     "data": {
      "text/html": [
       "<iframe id='facets-iframe' width=\"100%\" height=\"500px\"></iframe>\n",
       "        <script>\n",
       "        facets_iframe = document.getElementById('facets-iframe');\n",
       "        facets_html = '<link rel=\"import\" href=\"https://raw.githubusercontent.com/PAIR-code/facets/master/facets-dist/facets-jupyter.html\"><facets-overview proto-input=\"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\"></facets-overview>';\n",
       "        facets_iframe.contentWindow.document.write(facets_html);\n",
       "         facets_iframe.id = \"\";\n",
       "         setTimeout(() => {\n",
       "           facets_iframe.setAttribute('height', facets_iframe.contentWindow.document.body.offsetHeight + 'px')\n",
       "         }, 1500)\n",
       "         </script>"
      ],
      "text/plain": [
       "<IPython.core.display.HTML object>"
      ]
     },
     "metadata": {},
     "output_type": "display_data"
    }
   ],
   "source": [
    "artifact_id = 2\n",
    "store.display_stats_for_examples(artifact_id)"
   ]
  },
  {
   "cell_type": "code",
   "execution_count": 15,
   "metadata": {},
   "outputs": [
    {
     "data": {
      "text/html": [
       "<div>\n",
       "<style scoped>\n",
       "    .dataframe tbody tr th:only-of-type {\n",
       "        vertical-align: middle;\n",
       "    }\n",
       "\n",
       "    .dataframe tbody tr th {\n",
       "        vertical-align: top;\n",
       "    }\n",
       "\n",
       "    .dataframe thead th {\n",
       "        text-align: right;\n",
       "    }\n",
       "</style>\n",
       "<table border=\"1\" class=\"dataframe\">\n",
       "  <thead>\n",
       "    <tr style=\"text-align: right;\">\n",
       "      <th></th>\n",
       "      <th>Type</th>\n",
       "      <th>Presence</th>\n",
       "      <th>Valency</th>\n",
       "      <th>Domain</th>\n",
       "    </tr>\n",
       "    <tr>\n",
       "      <th>Feature name</th>\n",
       "      <th></th>\n",
       "      <th></th>\n",
       "      <th></th>\n",
       "      <th></th>\n",
       "    </tr>\n",
       "  </thead>\n",
       "  <tbody>\n",
       "    <tr>\n",
       "      <th>'Fare'</th>\n",
       "      <td>FLOAT</td>\n",
       "      <td>required</td>\n",
       "      <td>single</td>\n",
       "      <td>-</td>\n",
       "    </tr>\n",
       "    <tr>\n",
       "      <th>'Name'</th>\n",
       "      <td>BYTES</td>\n",
       "      <td>required</td>\n",
       "      <td>single</td>\n",
       "      <td>-</td>\n",
       "    </tr>\n",
       "    <tr>\n",
       "      <th>'Embarked'</th>\n",
       "      <td>STRING</td>\n",
       "      <td>optional</td>\n",
       "      <td>single</td>\n",
       "      <td>'Embarked'</td>\n",
       "    </tr>\n",
       "    <tr>\n",
       "      <th>'Age'</th>\n",
       "      <td>FLOAT</td>\n",
       "      <td>optional</td>\n",
       "      <td>single</td>\n",
       "      <td>-</td>\n",
       "    </tr>\n",
       "    <tr>\n",
       "      <th>'Parch'</th>\n",
       "      <td>INT</td>\n",
       "      <td>required</td>\n",
       "      <td>single</td>\n",
       "      <td>-</td>\n",
       "    </tr>\n",
       "    <tr>\n",
       "      <th>'Pclass'</th>\n",
       "      <td>INT</td>\n",
       "      <td>required</td>\n",
       "      <td>single</td>\n",
       "      <td>-</td>\n",
       "    </tr>\n",
       "    <tr>\n",
       "      <th>'Sex'</th>\n",
       "      <td>STRING</td>\n",
       "      <td>required</td>\n",
       "      <td>single</td>\n",
       "      <td>'Sex'</td>\n",
       "    </tr>\n",
       "    <tr>\n",
       "      <th>'Survived'</th>\n",
       "      <td>INT</td>\n",
       "      <td>required</td>\n",
       "      <td>single</td>\n",
       "      <td>-</td>\n",
       "    </tr>\n",
       "    <tr>\n",
       "      <th>'SibSp'</th>\n",
       "      <td>INT</td>\n",
       "      <td>required</td>\n",
       "      <td>single</td>\n",
       "      <td>-</td>\n",
       "    </tr>\n",
       "    <tr>\n",
       "      <th>'PassengerId'</th>\n",
       "      <td>INT</td>\n",
       "      <td>required</td>\n",
       "      <td>single</td>\n",
       "      <td>-</td>\n",
       "    </tr>\n",
       "    <tr>\n",
       "      <th>'Ticket'</th>\n",
       "      <td>BYTES</td>\n",
       "      <td>required</td>\n",
       "      <td>single</td>\n",
       "      <td>-</td>\n",
       "    </tr>\n",
       "    <tr>\n",
       "      <th>'Cabin'</th>\n",
       "      <td>BYTES</td>\n",
       "      <td>optional</td>\n",
       "      <td>single</td>\n",
       "      <td>-</td>\n",
       "    </tr>\n",
       "  </tbody>\n",
       "</table>\n",
       "</div>"
      ],
      "text/plain": [
       "                 Type  Presence Valency      Domain\n",
       "Feature name                                       \n",
       "'Fare'          FLOAT  required  single           -\n",
       "'Name'          BYTES  required  single           -\n",
       "'Embarked'     STRING  optional  single  'Embarked'\n",
       "'Age'           FLOAT  optional  single           -\n",
       "'Parch'           INT  required  single           -\n",
       "'Pclass'          INT  required  single           -\n",
       "'Sex'          STRING  required  single       'Sex'\n",
       "'Survived'        INT  required  single           -\n",
       "'SibSp'           INT  required  single           -\n",
       "'PassengerId'     INT  required  single           -\n",
       "'Ticket'        BYTES  required  single           -\n",
       "'Cabin'         BYTES  optional  single           -"
      ]
     },
     "metadata": {},
     "output_type": "display_data"
    },
    {
     "data": {
      "text/html": [
       "<div>\n",
       "<style scoped>\n",
       "    .dataframe tbody tr th:only-of-type {\n",
       "        vertical-align: middle;\n",
       "    }\n",
       "\n",
       "    .dataframe tbody tr th {\n",
       "        vertical-align: top;\n",
       "    }\n",
       "\n",
       "    .dataframe thead th {\n",
       "        text-align: right;\n",
       "    }\n",
       "</style>\n",
       "<table border=\"1\" class=\"dataframe\">\n",
       "  <thead>\n",
       "    <tr style=\"text-align: right;\">\n",
       "      <th></th>\n",
       "      <th>Values</th>\n",
       "    </tr>\n",
       "    <tr>\n",
       "      <th>Domain</th>\n",
       "      <th></th>\n",
       "    </tr>\n",
       "  </thead>\n",
       "  <tbody>\n",
       "    <tr>\n",
       "      <th>'Embarked'</th>\n",
       "      <td>'C', 'Q', 'S'</td>\n",
       "    </tr>\n",
       "    <tr>\n",
       "      <th>'Sex'</th>\n",
       "      <td>'female', 'male'</td>\n",
       "    </tr>\n",
       "  </tbody>\n",
       "</table>\n",
       "</div>"
      ],
      "text/plain": [
       "                      Values\n",
       "Domain                      \n",
       "'Embarked'  'C', 'Q', 'S'   \n",
       "'Sex'       'female', 'male'"
      ]
     },
     "metadata": {},
     "output_type": "display_data"
    }
   ],
   "source": [
    "schemas = store.get_artifacts_of_type_df(tfx_utils.TFXArtifactTypes.SCHEMA)\n",
    "schema_uri = schemas.URI.iloc[0] + 'schema.pbtxt'\n",
    "schema_proto = io_utils.parse_pbtxt_file(file_name=schema_uri, message=schema_pb2.Schema())\n",
    "tfdv.display_schema(schema_proto)"
   ]
  },
  {
   "cell_type": "code",
   "execution_count": 16,
   "metadata": {},
   "outputs": [
    {
     "data": {
      "text/plain": [
       "{u'Age': VarLenFeature(dtype=tf.float32),\n",
       " u'Cabin': VarLenFeature(dtype=tf.string),\n",
       " u'Embarked': VarLenFeature(dtype=tf.string),\n",
       " u'Fare': VarLenFeature(dtype=tf.float32),\n",
       " u'Name': VarLenFeature(dtype=tf.string),\n",
       " u'Parch': VarLenFeature(dtype=tf.int64),\n",
       " u'PassengerId': VarLenFeature(dtype=tf.int64),\n",
       " u'Pclass': VarLenFeature(dtype=tf.int64),\n",
       " u'Sex': VarLenFeature(dtype=tf.string),\n",
       " u'SibSp': VarLenFeature(dtype=tf.int64),\n",
       " u'Survived': VarLenFeature(dtype=tf.int64),\n",
       " u'Ticket': VarLenFeature(dtype=tf.string)}"
      ]
     },
     "execution_count": 16,
     "metadata": {},
     "output_type": "execute_result"
    }
   ],
   "source": [
    "feature_spec, domains = schema_utils.schema_as_feature_spec(schema_proto)\n",
    "feature_spec"
   ]
  },
  {
   "cell_type": "markdown",
   "metadata": {},
   "source": [
    "### Preprocessing & Feature Engineering"
   ]
  },
  {
   "cell_type": "markdown",
   "metadata": {},
   "source": [
    "We have seen in the previous phase the presence of missing values. Let's fill them and process the features for the model. "
   ]
  },
  {
   "cell_type": "markdown",
   "metadata": {},
   "source": [
    "#### Pipeline"
   ]
  },
  {
   "cell_type": "code",
   "execution_count": 18,
   "metadata": {},
   "outputs": [
    {
     "name": "stdout",
     "output_type": "stream",
     "text": [
      "\n",
      "import os\n",
      "import logging\n",
      "import datetime\n",
      "\n",
      "from tfx.orchestration.airflow.airflow_runner import AirflowDAGRunner\n",
      "from tfx.orchestration.pipeline import PipelineDecorator\n",
      "from tfx.utils.dsl_utils import csv_input\n",
      "from tfx.proto import trainer_pb2, evaluator_pb2\n",
      "\n",
      "from tfx.components.example_gen.csv_example_gen.component import CsvExampleGen\n",
      "from tfx.components.statistics_gen.component import StatisticsGen\n",
      "from tfx.components.schema_gen.component import SchemaGen\n",
      "from tfx.components.example_validator.component import ExampleValidator\n",
      "from tfx.components.transform.component import Transform\n",
      "from tfx.components.trainer.component import Trainer\n",
      "\n",
      "from tfx.components.evaluator.component import Evaluator\n",
      "\n",
      "\n",
      "data_dir = os.path.join(os.environ['DATA_DIR'], 'titanic')\n",
      "log_dir = os.path.join(os.environ['TFX_DIR'], 'logs')\n",
      "project_preprocessing_file = os.path.join(os.environ['DAGS_DIR'], 'titanic_preprocessing.py')\n",
      "project_training_file = os.path.join(os.environ['DAGS_DIR'], 'titanic_modeling.py')\n",
      "\n",
      "\n",
      "logger_overrides = dict([\n",
      "    ('log_root', log_dir),\n",
      "    ('log_level', logging.INFO)\n",
      "])\n",
      "\n",
      "airflow_config = dict([\n",
      "    ('schedule_interval', None),\n",
      "    ('start_date', datetime.datetime(2019, 1, 1))\n",
      "])\n",
      "\n",
      "@PipelineDecorator(\n",
      "    pipeline_name='titanic',\n",
      "    enable_cache=True,\n",
      "    metadata_db_root=os.environ['METADATA_DB_DIR'],\n",
      "    additional_pipeline_args=dict([('logger_args', logger_overrides)]),\n",
      "    pipeline_root=os.environ['PIPELINE_DIR']\n",
      ")\n",
      "def create_pipeline():\n",
      "    \n",
      "    pipeline = []\n",
      "    \n",
      "         \n",
      "    examples = csv_input(data_dir)\n",
      "\n",
      "    # Brings data into the pipeline\n",
      "    example_gen = CsvExampleGen(input_base=examples)\n",
      "    pipeline.append(example_gen)\n",
      "    \n",
      "    # Computes statistics over data for visualization and example validation.\n",
      "    statistics_gen = StatisticsGen(input_data=example_gen.outputs.examples)\n",
      "    pipeline.append(statistics_gen)\n",
      "\n",
      "    # Generates schema based on statistics files.\n",
      "    infer_schema = SchemaGen(stats=statistics_gen.outputs.output)\n",
      "    pipeline.append(infer_schema)\n",
      "\n",
      "    # Performs anomaly detection based on statistics and data schema.\n",
      "    validate_stats = ExampleValidator(\n",
      "        stats=statistics_gen.outputs.output,\n",
      "        schema=infer_schema.outputs.output\n",
      "    )\n",
      "    pipeline.append(validate_stats)\n",
      "\n",
      "    # Performs transformations and feature engineering in training and serving.\n",
      "    transform = Transform(\n",
      "        input_data=example_gen.outputs.examples,\n",
      "        schema=infer_schema.outputs.output,\n",
      "        module_file=project_preprocessing_file\n",
      "    )\n",
      "    pipeline.append(transform)\n",
      "    \n",
      "    \n",
      "    return pipeline\n",
      "\n",
      "pipeline = AirflowDAGRunner(airflow_config).run(create_pipeline())\n",
      "\n"
     ]
    }
   ],
   "source": [
    "pipeline_file = create_pipeline_file(\n",
    "    PipelineStep.PREPROCESSING,\n",
    "    project\n",
    ")\n",
    "write_pipeline_to_dags(pipeline_file, pipeline_name)\n",
    "print(pipeline_file)"
   ]
  },
  {
   "cell_type": "markdown",
   "metadata": {},
   "source": [
    "#### Preprocessing Module"
   ]
  },
  {
   "cell_type": "markdown",
   "metadata": {},
   "source": [
    "Let's implement the *preprocessing_fn* which will be used by the [Transform component](https://www.tensorflow.org/tfx/guide/transform) in order to process the data"
   ]
  },
  {
   "cell_type": "code",
   "execution_count": 6,
   "metadata": {
    "scrolled": true
   },
   "outputs": [
    {
     "name": "stdout",
     "output_type": "stream",
     "text": [
      "Writing /root/airflow/dags/titanic_preprocessing.py\n"
     ]
    }
   ],
   "source": [
    "%%writefile /root/airflow/dags/titanic_preprocessing.py\n",
    "\n",
    "import tensorflow as tf\n",
    "import tensorflow_transform as tft\n",
    "\n",
    "\n",
    "def _to_dense(x, default_value=None):\n",
    "    default_value = ('' if x.dtype == tf.string else 0) if default_value is None else default_value    \n",
    "    return tf.squeeze(tf.sparse_to_dense(x.indices, [x.dense_shape[0], 1], x.values, default_value), axis=1)\n",
    "    \n",
    "\n",
    "def preprocessing_fn(inputs):\n",
    "    \"\"\"tf.transform's callback function for preprocessing inputs.\n",
    "\n",
    "    Args:\n",
    "    inputs: map from feature keys to raw not-yet-transformed features.\n",
    "\n",
    "    Returns:\n",
    "    Map from string feature key to transformed feature operations.\n",
    "    \"\"\"\n",
    "    \n",
    "    outputs = {}\n",
    "        \n",
    "    # Missing values ==========================================\n",
    "    age = inputs[\"Age\"]                                       \n",
    "    age_mean = tft.mean(age)\n",
    "    age_without_na = _to_dense(age, age_mean)\n",
    "    \n",
    "    cabin_without_na = _to_dense(inputs[\"Cabin\"], \"X\")\n",
    "    embarked_without_na = _to_dense(inputs[\"Embarked\"], \"S\")\n",
    "    # =========================================================\n",
    "    \n",
    "    \n",
    "    # Feature Engineering ============================================================        \n",
    "    outputs[\"Age\"] = tft.bucketize(age_without_na, num_buckets=5)\n",
    "    \n",
    "    outputs[\"Fare\"] = tft.scale_to_z_score(_to_dense(inputs[\"Fare\"]))    \n",
    "    outputs[\"Parch\"] = tft.scale_to_z_score(_to_dense(inputs['Parch']))\n",
    "\n",
    "    outputs[\"Sex\"] = tft.compute_and_apply_vocabulary(_to_dense(inputs[\"Sex\"]))\n",
    "    outputs[\"Cabin\"] = tft.compute_and_apply_vocabulary(cabin_without_na, top_k=100) \n",
    "    outputs[\"Embarked\"] = tft.compute_and_apply_vocabulary(embarked_without_na) \n",
    "    # ================================================================================\n",
    "    \n",
    "    \n",
    "    # Label =============================================\n",
    "    outputs[\"Survived\"] = _to_dense(inputs[\"Survived\"])\n",
    "    # ===================================================\n",
    "    \n",
    "    \n",
    "    return outputs"
   ]
  },
  {
   "cell_type": "markdown",
   "metadata": {},
   "source": [
    "> Then go in [Airflow](http://localhost:8080/admin/airflow/graph?dag_id=titanic) and click **Refresh** in order to update the dag, then **Triger DAG** in order to run it"
   ]
  },
  {
   "cell_type": "markdown",
   "metadata": {},
   "source": [
    "#### Features Check"
   ]
  },
  {
   "cell_type": "code",
   "execution_count": 19,
   "metadata": {
    "scrolled": true
   },
   "outputs": [
    {
     "data": {
      "text/html": [
       "<div>\n",
       "<style scoped>\n",
       "    .dataframe tbody tr th:only-of-type {\n",
       "        vertical-align: middle;\n",
       "    }\n",
       "\n",
       "    .dataframe tbody tr th {\n",
       "        vertical-align: top;\n",
       "    }\n",
       "\n",
       "    .dataframe thead th {\n",
       "        text-align: right;\n",
       "    }\n",
       "</style>\n",
       "<table border=\"1\" class=\"dataframe\">\n",
       "  <thead>\n",
       "    <tr style=\"text-align: right;\">\n",
       "      <th></th>\n",
       "      <th>ID</th>\n",
       "      <th>STATE</th>\n",
       "      <th>TYPE_NAME</th>\n",
       "      <th>SPAN</th>\n",
       "      <th>URI</th>\n",
       "      <th>SPLIT</th>\n",
       "    </tr>\n",
       "  </thead>\n",
       "  <tbody>\n",
       "    <tr>\n",
       "      <th>0</th>\n",
       "      <td>2</td>\n",
       "      <td>published</td>\n",
       "      <td>ExamplesPath</td>\n",
       "      <td>1</td>\n",
       "      <td>/root/airflow/tfx/pipelines/titanic/CsvExample...</td>\n",
       "      <td>train</td>\n",
       "    </tr>\n",
       "    <tr>\n",
       "      <th>1</th>\n",
       "      <td>3</td>\n",
       "      <td>published</td>\n",
       "      <td>ExamplesPath</td>\n",
       "      <td>1</td>\n",
       "      <td>/root/airflow/tfx/pipelines/titanic/CsvExample...</td>\n",
       "      <td>eval</td>\n",
       "    </tr>\n",
       "    <tr>\n",
       "      <th>2</th>\n",
       "      <td>8</td>\n",
       "      <td>published</td>\n",
       "      <td>ExamplesPath</td>\n",
       "      <td>1</td>\n",
       "      <td>/root/airflow/tfx/pipelines/titanic/Transform/...</td>\n",
       "      <td>train</td>\n",
       "    </tr>\n",
       "    <tr>\n",
       "      <th>3</th>\n",
       "      <td>9</td>\n",
       "      <td>published</td>\n",
       "      <td>ExamplesPath</td>\n",
       "      <td>1</td>\n",
       "      <td>/root/airflow/tfx/pipelines/titanic/Transform/...</td>\n",
       "      <td>eval</td>\n",
       "    </tr>\n",
       "  </tbody>\n",
       "</table>\n",
       "</div>"
      ],
      "text/plain": [
       "   ID      STATE     TYPE_NAME SPAN  \\\n",
       "0   2  published  ExamplesPath    1   \n",
       "1   3  published  ExamplesPath    1   \n",
       "2   8  published  ExamplesPath    1   \n",
       "3   9  published  ExamplesPath    1   \n",
       "\n",
       "                                                 URI  SPLIT  \n",
       "0  /root/airflow/tfx/pipelines/titanic/CsvExample...  train  \n",
       "1  /root/airflow/tfx/pipelines/titanic/CsvExample...   eval  \n",
       "2  /root/airflow/tfx/pipelines/titanic/Transform/...  train  \n",
       "3  /root/airflow/tfx/pipelines/titanic/Transform/...   eval  "
      ]
     },
     "execution_count": 19,
     "metadata": {},
     "output_type": "execute_result"
    }
   ],
   "source": [
    "artifacts_infos = store.get_artifacts_of_type_df(tfx_utils.TFXArtifactTypes.EXAMPLES).reset_index()\n",
    "artifacts_infos"
   ]
  },
  {
   "cell_type": "code",
   "execution_count": 21,
   "metadata": {
    "scrolled": false
   },
   "outputs": [
    {
     "data": {
      "text/html": [
       "<iframe id='facets-iframe' width=\"100%\" height=\"500px\"></iframe>\n",
       "        <script>\n",
       "        facets_iframe = document.getElementById('facets-iframe');\n",
       "        facets_html = '<link rel=\"import\" href=\"https://raw.githubusercontent.com/PAIR-code/facets/master/facets-dist/facets-jupyter.html\"><facets-overview proto-input=\"Co0wCg5saHNfc3RhdGlzdGljcxCqAhq9BwoERmFyZRABGrIHCrYCCKoCGAEgAS0AAIA/MqQCGhsJAAAAAAAA8D8RAAAAAAAA8D8hzczMzMzMPUAaGwkAAAAAAADwPxEAAAAAAADwPyHNzMzMzMw9QBobCQAAAAAAAPA/EQAAAAAAAPA/Ic3MzMzMzD1AGhsJAAAAAAAA8D8RAAAAAAAA8D8hzczMzMzMPUAaGwkAAAAAAADwPxEAAAAAAADwPyHNzMzMzMw9QBobCQAAAAAAAPA/EQAAAAAAAPA/Ic3MzMzMzD1AGhsJAAAAAAAA8D8RAAAAAAAA8D8hzczMzMzMPUAaGwkAAAAAAADwPxEAAAAAAADwPyHNzMzMzMw9QBobCQAAAAAAAPA/EQAAAAAAAPA/Ic3MzMzMzD1AGhsJAAAAAAAA8D8RAAAAAAAA8D8hzczMzMzMPUAgAUCqAhHoVRYnxXScvxnsZpUOHlLvPykAAAAAB+fkvzEAAAAgwmDXvzkAAAAgXy4jQEKiAhobCQAAAAAH5+S/EczMzMxWwdc/IT20DlJEgm9AGhsJzMzMzFbB1z8RZmZm5i5U9j8hUkxLu0sHO0AaGwlmZmbmLlT2PxHMzMwMBFwDQCF2DIyxeYInQBobCczMzAwEXANAEWZmZqbwjQtAIeH4+nk4TfI/GhsJZmZmpvCNC0ARAAAAoO7fEUAhrPHBRT7AB0AaGwkAAACg7t8RQBHMzMzs5PgVQCE2BSX3g07+PxobCczMzOzk+BVAEZmZmTnbERpAIVK84AwOWq8/GhsJmZmZOdsRGkARZmZmhtEqHkAhULzgDA5arz8aGwlmZmaG0SoeQBGZmZnp4yEhQCFEvOAMDlqvPxobCZmZmenjISFAEQAAACBfLiNAISeLb9NGke4/QqQCGhsJAAAAAAfn5L8R/////2YF4L8hzczMzMzMPUAaGwn/////ZgXgvxEAAABA6LjfvyHNzMzMzMw9QBobCQAAAEDouN+/EQAAAID0gN+/Ic3MzMzMzD1AGhsJAAAAgPSA378RAAAAAFxe3L8hzczMzMzMPUAaGwkAAAAAXF7cvxEAAAAgwmDXvyHNzMzMzMw9QBobCQAAACDCYNe/EQAAAOBT3c2/Ic3MzMzMzD1AGhsJAAAA4FPdzb8RAAAAYChSv78hzczMzMzMPUAaGwkAAABgKFK/vxEAAAAgnDC2PyHNzMzMzMw9QBobCQAAACCcMLY/EQAAAADoH+o/Ic3MzMzMzD1AGhsJAAAAAOgf6j8RAAAAIF8uI0AhzczMzMzMPUAgARqyBgoIRW1iYXJrZWQapQYKtgIIqgIYASABLQAAgD8ypAIaGwkAAAAAAADwPxEAAAAAAADwPyHNzMzMzMw9QBobCQAAAAAAAPA/EQAAAAAAAPA/Ic3MzMzMzD1AGhsJAAAAAAAA8D8RAAAAAAAA8D8hzczMzMzMPUAaGwkAAAAAAADwPxEAAAAAAADwPyHNzMzMzMw9QBobCQAAAAAAAPA/EQAAAAAAAPA/Ic3MzMzMzD1AGhsJAAAAAAAA8D8RAAAAAAAA8D8hzczMzMzMPUAaGwkAAAAAAADwPxEAAAAAAADwPyHNzMzMzMw9QBobCQAAAAAAAPA/EQAAAAAAAPA/Ic3MzMzMzD1AGhsJAAAAAAAA8D8RAAAAAAAA8D8hzczMzMzMPUAaGwkAAAAAAADwPxEAAAAAAADwPyHNzMzMzMw9QCABQKoCEbpEeFKQ/Nk/GRGPD5gKzOQ/IMwBOQAAAAAAAABAQpkCGhIRmpmZmZmZyT8hoiO5/Id8aUAaGwmamZmZmZnJPxGamZmZmZnZPyE05q4l5IOuPxobCZqZmZmZmdk/ETQzMzMzM+M/ITTmriXkg64/GhsJNDMzMzMz4z8RmpmZmZmZ6T8hMOauJeSDrj8aGwmamZmZmZnpPxEAAAAAAADwPyEw5q4l5IOuPxobCQAAAAAAAPA/ETQzMzMzM/M/IcBbIEHxs1BAGhsJNDMzMzMz8z8RZ2ZmZmZm9j8hMOauJeSDrj8aGwlnZmZmZmb2PxGamZmZmZn5PyEw5q4l5IOuPxobCZqZmZmZmfk/Ec3MzMzMzPw/ITDmriXkg64/GhsJzczMzMzM/D8RAAAAAAAAAEAhxY8xdy3hOkBCrwEaCSHNzMzMzMw9QBoJIc3MzMzMzD1AGgkhzczMzMzMPUAaCSHNzMzMzMw9QBoJIc3MzMzMzD1AGgkhzczMzMzMPUAaEhEAAAAAAADwPyHNzMzMzMw9QBobCQAAAAAAAPA/EQAAAAAAAPA/Ic3MzMzMzD1AGhsJAAAAAAAA8D8RAAAAAAAA8D8hzczMzMzMPUAaGwkAAAAAAADwPxEAAAAAAAAAQCHNzMzMzMw9QCABGqEHCgNBZ2UamQcKtgIIqgIYASABLQAAgD8ypAIaGwkAAAAAAADwPxEAAAAAAADwPyHNzMzMzMw9QBobCQAAAAAAAPA/EQAAAAAAAPA/Ic3MzMzMzD1AGhsJAAAAAAAA8D8RAAAAAAAA8D8hzczMzMzMPUAaGwkAAAAAAADwPxEAAAAAAADwPyHNzMzMzMw9QBobCQAAAAAAAPA/EQAAAAAAAPA/Ic3MzMzMzD1AGhsJAAAAAAAA8D8RAAAAAAAA8D8hzczMzMzMPUAaGwkAAAAAAADwPxEAAAAAAADwPyHNzMzMzMw9QBobCQAAAAAAAPA/EQAAAAAAAPA/Ic3MzMzMzD1AGhsJAAAAAAAA8D8RAAAAAAAA8D8hzczMzMzMPUAaGwkAAAAAAADwPxEAAAAAAADwPyHNzMzMzMw9QCABQKoCEa5vA4ZqOgJAGanQpPX+QvM/IBoxAAAAAAAACEA5AAAAAAAAEEBCmQIaEhGamZmZmZnZPyF5xyk6kgs6QBobCZqZmZmZmdk/EZqZmZmZmek/ITLmriXkg74/GhsJmpmZmZmZ6T8RNDMzMzMz8z8hbjSAt0AyUEAaGwk0MzMzMzPzPxGamZmZmZn5PyEw5q4l5IO+PxobCZqZmZmZmfk/EQAAAAAAAABAITDmriXkg74/GhsJAAAAAAAAAEARNDMzMzMzA0AhqDXNO07xSEAaGwk0MzMzMzMDQBFnZmZmZmYGQCEw5q4l5IO+PxobCWdmZmZmZgZAEZqZmZmZmQlAIZm7lpAPalxAGhsJmpmZmZmZCUARzczMzMzMDEAhMOauJeSDvj8aGwnNzMzMzMwMQBEAAAAAAAAQQCFO0ZFc/oNFQEKbAhoSEQAAAAAAAPA/Ic3MzMzMzD1AGhsJAAAAAAAA8D8RAAAAAAAA8D8hzczMzMzMPUAaGwkAAAAAAADwPxEAAAAAAADwPyHNzMzMzMw9QBobCQAAAAAAAPA/EQAAAAAAAABAIc3MzMzMzD1AGhsJAAAAAAAAAEARAAAAAAAACEAhzczMzMzMPUAaGwkAAAAAAAAIQBEAAAAAAAAIQCHNzMzMzMw9QBobCQAAAAAAAAhAEQAAAAAAAAhAIc3MzMzMzD1AGhsJAAAAAAAACEARAAAAAAAACEAhzczMzMzMPUAaGwkAAAAAAAAIQBEAAAAAAAAQQCHNzMzMzMw9QBobCQAAAAAAABBAEQAAAAAAABBAIc3MzMzMzD1AIAEavgcKBVBhcmNoEAEasgcKtgIIqgIYASABLQAAgD8ypAIaGwkAAAAAAADwPxEAAAAAAADwPyHNzMzMzMw9QBobCQAAAAAAAPA/EQAAAAAAAPA/Ic3MzMzMzD1AGhsJAAAAAAAA8D8RAAAAAAAA8D8hzczMzMzMPUAaGwkAAAAAAADwPxEAAAAAAADwPyHNzMzMzMw9QBobCQAAAAAAAPA/EQAAAAAAAPA/Ic3MzMzMzD1AGhsJAAAAAAAA8D8RAAAAAAAA8D8hzczMzMzMPUAaGwkAAAAAAADwPxEAAAAAAADwPyHNzMzMzMw9QBobCQAAAAAAAPA/EQAAAAAAAPA/Ic3MzMzMzD1AGhsJAAAAAAAA8D8RAAAAAAAA8D8hzczMzMzMPUAaGwkAAAAAAADwPxEAAAAAAADwPyHNzMzMzMw9QCABQKoCEXFGu4c5NHK/GXKGKTV/We8/KQAAAKCkNN6/MQAAAKCkNN6/OQAAAOBJxRZAQqICGhsJAAAAoKQ03r8RaGZmJvd+wj8hiuDl+6ldbEAaGwloZmYm937CPxE0MzPjzVnoPyH7S12RbhLDPxobCTQzM+PNWeg/EWdmZv7uCfY/IVSqGVg55ENAGhsJZ2Zm/u4J9j8RNDMzC/fm/z8hVN7rSQziOEAaGwk0MzML9+b/PxEAAACM/+EEQCG8OG1ybhLDPxobCQAAAIz/4QRAEWdmZpKD0AlAIcA4bXJuEsM/GhsJZ2ZmkoPQCUARzszMmAe/DkAh5p6hsfP9/j8aGwnOzMyYB78OQBGamZnPxdYRQCG9OG1ybhLDPxobCZqZmc/F1hFAEc3MzNIHThRAIbvPg1XjpQZAGhsJzczM0gdOFEARAAAA4EnFFkAh/61e0SCw8D9CpAIaGwkAAACgpDTevxEAAACgpDTevyHNzMzMzMw9QBobCQAAAKCkNN6/EQAAAKCkNN6/Ic3MzMzMzD1AGhsJAAAAoKQ03r8RAAAAoKQ03r8hzczMzMzMPUAaGwkAAACgpDTevxEAAACgpDTevyHNzMzMzMw9QBobCQAAAKCkNN6/EQAAAKCkNN6/Ic3MzMzMzD1AGhsJAAAAoKQ03r8RAAAAoKQ03r8hzczMzMzMPUAaGwkAAACgpDTevxEAAACgpDTevyHNzMzMzMw9QBobCQAAAKCkNN6/EQAAAADOWeg/Ic3MzMzMzD1AGhsJAAAAAM5Z6D8RAAAAAPfm/z8hzczMzMzMPUAaGwkAAAAA9+b/PxEAAADgScUWQCHNzMzMzMw9QCABGq0GCgNTZXgapQYKtgIIqgIYASABLQAAgD8ypAIaGwkAAAAAAADwPxEAAAAAAADwPyHNzMzMzMw9QBobCQAAAAAAAPA/EQAAAAAAAPA/Ic3MzMzMzD1AGhsJAAAAAAAA8D8RAAAAAAAA8D8hzczMzMzMPUAaGwkAAAAAAADwPxEAAAAAAADwPyHNzMzMzMw9QBobCQAAAAAAAPA/EQAAAAAAAPA/Ic3MzMzMzD1AGhsJAAAAAAAA8D8RAAAAAAAA8D8hzczMzMzMPUAaGwkAAAAAAADwPxEAAAAAAADwPyHNzMzMzMw9QBobCQAAAAAAAPA/EQAAAAAAAPA/Ic3MzMzMzD1AGhsJAAAAAAAA8D8RAAAAAAAA8D8hzczMzMzMPUAaGwkAAAAAAADwPxEAAAAAAADwPyHNzMzMzMw9QCABQKoCEUj+vMrijNY/Gffvq1Grkt4/IMEBOQAAAAAAAPA/QpkCGhIRmpmZmZmZuT8h5T+k374aaEAaGwmamZmZmZm5PxGamZmZmZnJPyE05q4l5IOePxobCZqZmZmZmck/ETQzMzMzM9M/ITjmriXkg54/GhsJNDMzMzMz0z8RmpmZmZmZ2T8hMOauJeSDnj8aGwmamZmZmZnZPxEAAAAAAADgPyEw5q4l5IOePxobCQAAAAAAAOA/ETQzMzMzM+M/ITjmriXkg54/GhsJNDMzMzMz4z8RZ2ZmZmZm5j8hMOauJeSDnj8aGwlnZmZmZmbmPxGamZmZmZnpPyEw5q4l5IOePxobCZqZmZmZmek/Ec3MzMzMzOw/ITDmriXkg54/GhsJzczMzMzM7D8RAAAAAAAA8D8hwaikTkA7WkBCrwEaCSHNzMzMzMw9QBoJIc3MzMzMzD1AGgkhzczMzMzMPUAaCSHNzMzMzMw9QBoJIc3MzMzMzD1AGgkhzczMzMzMPUAaEhEAAAAAAADwPyHNzMzMzMw9QBobCQAAAAAAAPA/EQAAAAAAAPA/Ic3MzMzMzD1AGhsJAAAAAAAA8D8RAAAAAAAA8D8hzczMzMzMPUAaGwkAAAAAAADwPxEAAAAAAADwPyHNzMzMzMw9QCABGsQGCghTdXJ2aXZlZBq3Bgq2AgiqAhgBIAEtAACAPzKkAhobCQAAAAAAAPA/EQAAAAAAAPA/Ic3MzMzMzD1AGhsJAAAAAAAA8D8RAAAAAAAA8D8hzczMzMzMPUAaGwkAAAAAAADwPxEAAAAAAADwPyHNzMzMzMw9QBobCQAAAAAAAPA/EQAAAAAAAPA/Ic3MzMzMzD1AGhsJAAAAAAAA8D8RAAAAAAAA8D8hzczMzMzMPUAaGwkAAAAAAADwPxEAAAAAAADwPyHNzMzMzMw9QBobCQAAAAAAAPA/EQAAAAAAAPA/Ic3MzMzMzD1AGhsJAAAAAAAA8D8RAAAAAAAA8D8hzczMzMzMPUAaGwkAAAAAAADwPxEAAAAAAADwPyHNzMzMzMw9QBobCQAAAAAAAPA/EQAAAAAAAPA/Ic3MzMzMzD1AIAFAqgIRUpD8eZXF2T8ZJsylPFdj3z8gsgE5AAAAAAAA8D9CmQIaEhGamZmZmZm5PyEZc9cS8j1mQBobCZqZmZmZmbk/EZqZmZmZmck/ITTmriXkg54/GhsJmpmZmZmZyT8RNDMzMzMz0z8hOOauJeSDnj8aGwk0MzMzMzPTPxGamZmZmZnZPyEw5q4l5IOePxobCZqZmZmZmdk/EQAAAAAAAOA/ITDmriXkg54/GhsJAAAAAAAA4D8RNDMzMzMz4z8hOOauJeSDnj8aGwk0MzMzMzPjPxFnZmZmZmbmPyEw5q4l5IOePxobCWdmZmZmZuY/EZqZmZmZmek/ITDmriXkg54/GhsJmpmZmZmZ6T8RzczMzMzM7D8hMOauJeSDnj8aGwnNzMzMzMzsPxEAAAAAAADwPyFaQj7o2fRdQELBARoJIc3MzMzMzD1AGgkhzczMzMzMPUAaCSHNzMzMzMw9QBoJIc3MzMzMzD1AGgkhzczMzMzMPUAaEhEAAAAAAADwPyHNzMzMzMw9QBobCQAAAAAAAPA/EQAAAAAAAPA/Ic3MzMzMzD1AGhsJAAAAAAAA8D8RAAAAAAAA8D8hzczMzMzMPUAaGwkAAAAAAADwPxEAAAAAAADwPyHNzMzMzMw9QBobCQAAAAAAAPA/EQAAAAAAAPA/Ic3MzMzMzD1AIAEapgYKBUNhYmluGpwGCrYCCKoCGAEgAS0AAIA/MqQCGhsJAAAAAAAA8D8RAAAAAAAA8D8hzczMzMzMPUAaGwkAAAAAAADwPxEAAAAAAADwPyHNzMzMzMw9QBobCQAAAAAAAPA/EQAAAAAAAPA/Ic3MzMzMzD1AGhsJAAAAAAAA8D8RAAAAAAAA8D8hzczMzMzMPUAaGwkAAAAAAADwPxEAAAAAAADwPyHNzMzMzMw9QBobCQAAAAAAAPA/EQAAAAAAAPA/Ic3MzMzMzD1AGhsJAAAAAAAA8D8RAAAAAAAA8D8hzczMzMzMPUAaGwkAAAAAAADwPxEAAAAAAADwPyHNzMzMzMw9QBobCQAAAAAAAPA/EQAAAAAAAPA/Ic3MzMzMzD1AGhsJAAAAAAAA8D8RAAAAAAAA8D8hzczMzMzMPUAgAUCqAhFeZXFGu4cNQBmvQk0bUhowQCDtASkAAAAAAADwvzkAAAAAAIBYQEKiAhobCQAAAAAAAPC/Ec3MzMzMzCFAIcocDPfOf3FAGhsJzczMzMzMIUARzczMzMzMMkAhXEyxZiNV/z8aGwnNzMzMzMwyQBE0MzMzM7M8QCF6K09hJ/nKPxobCTQzMzMzszxAEc3MzMzMTENAIan3Sq+T0f8/GhsJzczMzMxMQ0ARAAAAAABASEAhSNSh8mQL7D8aGwkAAAAAAEBIQBE0MzMzMzNNQCHp8Xub/mwAQBobCTQzMzMzM01AETMzMzMzE1FAIVyN2X+K0Pw/GhsJMzMzMzMTUUARzczMzMyMU0AhvdOKXF37E0AaGwnNzMzMzIxTQBFnZmZmZgZWQCHtfeNrzyzJPxobCWdmZmZmBlZAEQAAAAAAgFhAIUR5+bDxcw9AQpQBGhsJAAAAAAAA8L8RAAAAAAAA8L8hzczMzMzMPUAaEgkAAAAAAADwvyHNzMzMzMw9QBoJIc3MzMzMzD1AGgkhzczMzMzMPUAaCSHNzMzMzMw9QBoJIc3MzMzMzD1AGgkhzczMzMzMPUAaCSHNzMzMzMw9QBoJIc3MzMzMzD1AGhIRAAAAAACAWEAhzczMzMzMPUAgAQ==\"></facets-overview>';\n",
       "        facets_iframe.contentWindow.document.write(facets_html);\n",
       "         facets_iframe.id = \"\";\n",
       "         setTimeout(() => {\n",
       "           facets_iframe.setAttribute('height', facets_iframe.contentWindow.document.body.offsetHeight + 'px')\n",
       "         }, 1500)\n",
       "         </script>"
      ],
      "text/plain": [
       "<IPython.core.display.HTML object>"
      ]
     },
     "metadata": {},
     "output_type": "display_data"
    }
   ],
   "source": [
    "path = artifacts_infos[artifacts_infos.ID == 9].URI.iloc[0]\n",
    "preprocessed_stats = tfdv.generate_statistics_from_tfrecord(path)\n",
    "\n",
    "tfdv.visualize_statistics(preprocessed_stats)"
   ]
  },
  {
   "cell_type": "markdown",
   "metadata": {},
   "source": [
    "### Modeling"
   ]
  },
  {
   "cell_type": "markdown",
   "metadata": {},
   "source": [
    "#### Pipeline"
   ]
  },
  {
   "cell_type": "code",
   "execution_count": 7,
   "metadata": {},
   "outputs": [],
   "source": [
    "columns_for_slicing = ['Sex', 'Fare', 'Age', 'Embarked']"
   ]
  },
  {
   "cell_type": "code",
   "execution_count": 8,
   "metadata": {
    "scrolled": false
   },
   "outputs": [
    {
     "name": "stdout",
     "output_type": "stream",
     "text": [
      "\n",
      "import os\n",
      "import logging\n",
      "import datetime\n",
      "\n",
      "from tfx.orchestration.airflow.airflow_runner import AirflowDAGRunner\n",
      "from tfx.orchestration.pipeline import PipelineDecorator\n",
      "from tfx.utils.dsl_utils import csv_input\n",
      "from tfx.proto import trainer_pb2, evaluator_pb2, pusher_pb2\n",
      "\n",
      "from tfx.components.example_gen.csv_example_gen.component import CsvExampleGen\n",
      "from tfx.components.statistics_gen.component import StatisticsGen\n",
      "from tfx.components.schema_gen.component import SchemaGen\n",
      "from tfx.components.example_validator.component import ExampleValidator\n",
      "from tfx.components.transform.component import Transform\n",
      "from tfx.components.trainer.component import Trainer\n",
      "from tfx.components.evaluator.component import Evaluator\n",
      "from tfx.components.model_validator.component import ModelValidator\n",
      "from tfx.components.pusher.component import Pusher\n",
      "\n",
      "\n",
      "data_dir = os.path.join(os.environ['DATA_DIR'], 'titanic')\n",
      "log_dir = os.path.join(os.environ['TFX_DIR'], 'logs')\n",
      "serving_model_dir = os.path.join(os.environ['SERVING_DIR'], 'serving_model', 'titanic')\n",
      "project_preprocessing_file = os.path.join(os.environ['DAGS_DIR'], 'titanic_preprocessing.py')\n",
      "project_training_file = os.path.join(os.environ['DAGS_DIR'], 'titanic_modeling.py')\n",
      "\n",
      "logger_overrides = dict([\n",
      "    ('log_root', log_dir),\n",
      "    ('log_level', logging.INFO)\n",
      "])\n",
      "\n",
      "airflow_config = dict([\n",
      "    ('schedule_interval', None),\n",
      "    ('start_date', datetime.datetime(2019, 1, 1))\n",
      "])\n",
      "\n",
      "@PipelineDecorator(\n",
      "    pipeline_name='titanic',\n",
      "    enable_cache=True,\n",
      "    metadata_db_root=os.environ['METADATA_DB_DIR'],\n",
      "    additional_pipeline_args=dict([('logger_args', logger_overrides)]),\n",
      "    pipeline_root=os.environ['PIPELINE_DIR']\n",
      ")\n",
      "def create_pipeline():\n",
      "    \n",
      "    pipeline = []\n",
      "    \n",
      "         \n",
      "    examples = csv_input(data_dir)\n",
      "\n",
      "    # Brings data into the pipeline\n",
      "    example_gen = CsvExampleGen(input_base=examples)\n",
      "    pipeline.append(example_gen)\n",
      "    \n",
      "    # Computes statistics over data for visualization and example validation.\n",
      "    statistics_gen = StatisticsGen(input_data=example_gen.outputs.examples)\n",
      "    pipeline.append(statistics_gen)\n",
      "\n",
      "    # Generates schema based on statistics files.\n",
      "    infer_schema = SchemaGen(stats=statistics_gen.outputs.output)\n",
      "    pipeline.append(infer_schema)\n",
      "\n",
      "    # Performs anomaly detection based on statistics and data schema.\n",
      "    validate_stats = ExampleValidator(\n",
      "        stats=statistics_gen.outputs.output,\n",
      "        schema=infer_schema.outputs.output\n",
      "    )\n",
      "    pipeline.append(validate_stats)\n",
      "\n",
      "    # Performs transformations and feature engineering in training and serving.\n",
      "    transform = Transform(\n",
      "        input_data=example_gen.outputs.examples,\n",
      "        schema=infer_schema.outputs.output,\n",
      "        module_file=project_preprocessing_file\n",
      "    )\n",
      "    pipeline.append(transform)\n",
      "\n",
      "    # Uses user-provided Python function that implements a model.\n",
      "    trainer = Trainer(\n",
      "        module_file=project_training_file,\n",
      "        transformed_examples=transform.outputs.transformed_examples,\n",
      "        schema=infer_schema.outputs.output,\n",
      "        transform_output=transform.outputs.transform_output,\n",
      "        train_args=trainer_pb2.TrainArgs(num_steps=1000),\n",
      "        eval_args=trainer_pb2.EvalArgs(num_steps=500)\n",
      "    )\n",
      "    pipeline.append(trainer)\n",
      "\n",
      "    # Uses TFMA to compute a evaluation statistics over features of a model.\n",
      "    model_analyzer = Evaluator(\n",
      "        examples=example_gen.outputs.examples,\n",
      "        model_exports=trainer.outputs.output,\n",
      "        feature_slicing_spec=evaluator_pb2.FeatureSlicingSpec(specs=[evaluator_pb2.SingleSlicingSpec(column_for_slicing=['Sex']),evaluator_pb2.SingleSlicingSpec(column_for_slicing=['Fare']),evaluator_pb2.SingleSlicingSpec(column_for_slicing=['Age']),evaluator_pb2.SingleSlicingSpec(column_for_slicing=['Embarked'])])\n",
      "    )\n",
      "    pipeline.append(model_analyzer)\n",
      "    \n",
      "    \n",
      "    return pipeline\n",
      "\n",
      "pipeline = AirflowDAGRunner(airflow_config).run(create_pipeline())\n",
      "\n"
     ]
    }
   ],
   "source": [
    "pipeline_file = create_pipeline_file(\n",
    "    PipelineStep.MODELING,\n",
    "    project,\n",
    "    columns_for_slicing=columns_for_slicing,\n",
    "    train_steps=1000,\n",
    "    eval_steps=500,\n",
    ")\n",
    "write_pipeline_to_dags(pipeline_file, pipeline_name)\n",
    "print(pipeline_file)"
   ]
  },
  {
   "cell_type": "markdown",
   "metadata": {},
   "source": [
    "#### Modeling Module"
   ]
  },
  {
   "cell_type": "markdown",
   "metadata": {},
   "source": [
    "Let's implement the *trainer_fn* which will be used by the [Trainer component](https://www.tensorflow.org/tfx/guide/trainer) in order to build the model"
   ]
  },
  {
   "cell_type": "code",
   "execution_count": 9,
   "metadata": {},
   "outputs": [
    {
     "name": "stdout",
     "output_type": "stream",
     "text": [
      "Writing /root/airflow/dags/titanic_modeling.py\n"
     ]
    }
   ],
   "source": [
    "%%writefile /root/airflow/dags/titanic_modeling.py\n",
    "\n",
    "import os\n",
    "import tensorflow as tf\n",
    "import tensorflow_model_analysis as tfma\n",
    "\n",
    "from tfx.proto import trainer_pb2\n",
    "from tfx.components.trainer.component import Trainer\n",
    "from tensorflow_transform.tf_metadata import schema_utils\n",
    "from tensorflow_transform.beam.tft_beam_io import transform_fn_io\n",
    "from tensorflow_transform.tf_metadata import metadata_io\n",
    "from tensorflow_transform.saved import saved_transform_io\n",
    "\n",
    "\n",
    "def _build_estimator(transform_output, config):\n",
    "    \"\"\"Build an estimator for predicting the survivors.\n",
    "\n",
    "    Args:\n",
    "        transform_output: directory in which the tf-transform model was written\n",
    "          during the preprocessing step.\n",
    "        config: tf.contrib.learn.RunConfig defining the runtime environment for\n",
    "          the estimator (including model_dir).\n",
    "      \n",
    "    Returns:\n",
    "        A dict of the following:\n",
    "          - estimator: The estimator that will be used for training and eval.\n",
    "          - train_spec: Spec for training.\n",
    "          - eval_spec: Spec for eval.\n",
    "          - eval_input_receiver_fn: Input function for eval.\n",
    "    \"\"\"\n",
    "    \n",
    "    feature_columns = [\n",
    "        tf.feature_column.numeric_column(\"Fare\", shape=()),\n",
    "        tf.feature_column.numeric_column(\"Parch\", shape=()),\n",
    "        tf.feature_column.categorical_column_with_identity(\"Age\", num_buckets=10),\n",
    "        tf.feature_column.categorical_column_with_identity(\"Sex\", num_buckets=2),\n",
    "        tf.feature_column.categorical_column_with_identity(\"Cabin\", num_buckets=100),\n",
    "        tf.feature_column.categorical_column_with_identity(\"Embarked\", num_buckets=3),\n",
    "    ]\n",
    "    \n",
    "    return tf.estimator.LinearClassifier(feature_columns=feature_columns, config=config)\n",
    "\n",
    "\n",
    "def _get_raw_feature_spec(schema):\n",
    "    return schema_utils.schema_as_feature_spec(schema).feature_spec\n",
    "\n",
    "\n",
    "def _example_serving_receiver_fn(transform_output, schema):\n",
    "    \"\"\"Build the serving in inputs.\n",
    "\n",
    "    Args:\n",
    "        transform_output: directory in which the tf-transform model was written\n",
    "          during the preprocessing step.\n",
    "        schema: the schema of the input data.\n",
    "\n",
    "    Returns:\n",
    "        Tensorflow graph which parses examples, applying tf-transform to them.\n",
    "    \"\"\"\n",
    "  \n",
    "    raw_feature_spec = _get_raw_feature_spec(schema)\n",
    "    raw_feature_spec.pop(\"Survived\")\n",
    "\n",
    "    raw_input_fn = tf.estimator.export.build_parsing_serving_input_receiver_fn(raw_feature_spec)\n",
    "    \n",
    "    serving_input_receiver = raw_input_fn()\n",
    "\n",
    "    _, transformed_features = (\n",
    "        saved_transform_io.partially_apply_saved_transform(\n",
    "            os.path.join(transform_output, transform_fn_io.TRANSFORM_FN_DIR),\n",
    "            serving_input_receiver.features\n",
    "        )\n",
    "    )\n",
    "\n",
    "    return tf.estimator.export.ServingInputReceiver(\n",
    "        transformed_features,\n",
    "        serving_input_receiver.receiver_tensors\n",
    "    )\n",
    "\n",
    "\n",
    "def _eval_input_receiver_fn(transform_output, schema):\n",
    "    \"\"\"Build everything needed for the tf-model-analysis to run the model.\n",
    "\n",
    "    Args:\n",
    "        transform_output: directory in which the tf-transform model was written\n",
    "          during the preprocessing step.\n",
    "        schema: the schema of the input data.\n",
    "\n",
    "    Returns:\n",
    "        EvalInputReceiver function, which contains:\n",
    "          - Tensorflow graph which parses raw untransformed features, applies the\n",
    "            tf-transform preprocessing operators.\n",
    "          - Set of raw, untransformed features.\n",
    "          - Label against which predictions will be compared.\n",
    "    \"\"\"\n",
    "  \n",
    "    raw_feature_spec = _get_raw_feature_spec(schema)\n",
    "\n",
    "    serialized_tf_example = tf.placeholder(dtype=tf.string, shape=[None], name='input_example_tensor')\n",
    "\n",
    "    # Add a parse_example operator to the tensorflow graph, which will parse raw, untransformed, tf examples.\n",
    "    features = tf.parse_example(serialized_tf_example, raw_feature_spec)\n",
    "\n",
    "    # Now that we have our raw examples, process them through the tf-transform\n",
    "    # function computed during the preprocessing step.\n",
    "    _, transformed_features = (\n",
    "        saved_transform_io.partially_apply_saved_transform(\n",
    "          os.path.join(transform_output, transform_fn_io.TRANSFORM_FN_DIR),\n",
    "          features\n",
    "        )\n",
    "    )\n",
    "\n",
    "    # The key name MUST be 'examples'.\n",
    "    receiver_tensors = {'examples': serialized_tf_example}\n",
    "\n",
    "    # NOTE: Model is driven by transformed features (since training works on the\n",
    "    # materialized output of TFT, but slicing will happen on raw features.\n",
    "    features.update(transformed_features)\n",
    "\n",
    "    return tfma.export.EvalInputReceiver(\n",
    "        features=features,\n",
    "        receiver_tensors=receiver_tensors,\n",
    "        labels=transformed_features[\"Survived\"]\n",
    "    )\n",
    "\n",
    "\n",
    "def _gzip_reader_fn():\n",
    "    \"\"\"Small utility returning a record reader that can read gzip'ed files.\"\"\"\n",
    "    return tf.TFRecordReader(\n",
    "        options=tf.python_io.TFRecordOptions(\n",
    "            compression_type=tf.python_io.TFRecordCompressionType.GZIP\n",
    "        )\n",
    "    )\n",
    "\n",
    "\n",
    "def _input_fn(filenames, transform_output, batch_size=200):\n",
    "    \"\"\"Generates features and labels for training or evaluation.\n",
    "\n",
    "      Args:\n",
    "        filenames: [str] list of CSV files to read data from.\n",
    "        transform_output: directory in which the tf-transform model was written\n",
    "          during the preprocessing step.\n",
    "        batch_size: int First dimension size of the Tensors returned by input_fn\n",
    "\n",
    "      Returns:\n",
    "        A (features, indices) tuple where features is a dictionary of\n",
    "          Tensors, and indices is a single Tensor of label indices.\n",
    "    \"\"\"\n",
    "\n",
    "    metadata_dir = os.path.join(transform_output, transform_fn_io.TRANSFORMED_METADATA_DIR)\n",
    "    transformed_metadata = metadata_io.read_metadata(metadata_dir)\n",
    "    transformed_feature_spec = transformed_metadata.schema.as_feature_spec()\n",
    "\n",
    "    transformed_features = tf.contrib.learn.io.read_batch_features(\n",
    "        filenames, batch_size, transformed_feature_spec, reader=_gzip_reader_fn\n",
    "    )\n",
    "\n",
    "    # We pop the label because we do not want to use it as a feature while we're training.\n",
    "    return transformed_features, transformed_features.pop(\"Survived\")\n",
    "\n",
    "\n",
    "# TFX will call this function\n",
    "def trainer_fn(hparams, schema):\n",
    "    \"\"\"Build the estimator using the high level API.\n",
    "\n",
    "    Args:\n",
    "        hparams: Holds hyperparameters used to train the model as name/value pairs\n",
    "        schema: Holds the schema of the training examples.\n",
    "\n",
    "    Returns:\n",
    "        A dict of the following:\n",
    "          - estimator: The estimator that will be used for training and eval.\n",
    "          - train_spec: Spec for training.\n",
    "          - eval_spec: Spec for eval.\n",
    "          - eval_input_receiver_fn: Input function for eval.\n",
    "    \"\"\"\n",
    "    \n",
    "    train_batch_size = 40\n",
    "    eval_batch_size = 40\n",
    "\n",
    "    train_input_fn = lambda: _input_fn(\n",
    "        hparams.train_files,\n",
    "        hparams.transform_output,\n",
    "        batch_size=train_batch_size\n",
    "    )\n",
    "\n",
    "    eval_input_fn = lambda: _input_fn(\n",
    "        hparams.eval_files,\n",
    "        hparams.transform_output,\n",
    "        batch_size=eval_batch_size\n",
    "    )\n",
    "\n",
    "    train_spec = tf.estimator.TrainSpec(\n",
    "        train_input_fn,\n",
    "        max_steps=hparams.train_steps\n",
    "    )\n",
    "\n",
    "\n",
    "    serving_receiver_fn = lambda: _example_serving_receiver_fn(hparams.transform_output, schema)\n",
    "\n",
    "    exporter = tf.estimator.FinalExporter('titanic', serving_receiver_fn)\n",
    "    \n",
    "    eval_spec = tf.estimator.EvalSpec(\n",
    "      eval_input_fn,\n",
    "      steps=hparams.eval_steps,\n",
    "      exporters=[exporter],\n",
    "      name='titanic-eval'\n",
    "    )\n",
    "\n",
    "    run_config = tf.estimator.RunConfig(\n",
    "        model_dir=hparams.serving_model_dir,\n",
    "        save_summary_steps=10,\n",
    "        save_checkpoints_steps=10,\n",
    "        \n",
    "    )\n",
    "\n",
    "    estimator = _build_estimator(\n",
    "        transform_output=hparams.transform_output,\n",
    "        config=run_config,\n",
    "    )\n",
    "\n",
    "    # Create an input receiver for TFMA processing\n",
    "    receiver_fn = lambda: _eval_input_receiver_fn(hparams.transform_output, schema)\n",
    "\n",
    "    return {\n",
    "        'estimator': estimator,\n",
    "        'train_spec': train_spec,\n",
    "        'eval_spec': eval_spec,\n",
    "        'eval_input_receiver_fn': receiver_fn\n",
    "    }"
   ]
  },
  {
   "cell_type": "markdown",
   "metadata": {},
   "source": [
    "> Then go in [Airflow](http://localhost:8080/admin/airflow/graph?dag_id=titanic) and click **Refresh** in order to update the dag, then **Triger DAG** in order to run it"
   ]
  },
  {
   "cell_type": "markdown",
   "metadata": {},
   "source": [
    "#### Tensorboard"
   ]
  },
  {
   "cell_type": "code",
   "execution_count": 19,
   "metadata": {},
   "outputs": [],
   "source": [
    "tensorboard_logdir = os.path.join(os.environ['TFX_DIR'], 'pipelines', 'titanic', 'Trainer/output')\n",
    "os.environ['TENSORBOARD_LOGDIR'] = tensorboard_logdir"
   ]
  },
  {
   "cell_type": "code",
   "execution_count": 20,
   "metadata": {},
   "outputs": [
    {
     "name": "stdout",
     "output_type": "stream",
     "text": [
      "Starting job # 0 in a separate thread.\n"
     ]
    }
   ],
   "source": [
    "%%bash --bg -s\n",
    "nohup tensorboard --logdir=\"${TENSORBOARD_LOGDIR}\" 2>&1"
   ]
  },
  {
   "cell_type": "markdown",
   "metadata": {},
   "source": [
    "> Open [Tensorboard](http://localhost:6006)"
   ]
  },
  {
   "cell_type": "markdown",
   "metadata": {},
   "source": [
    "### Model Analysis"
   ]
  },
  {
   "cell_type": "markdown",
   "metadata": {},
   "source": [
    "After the training has completed we can investigate the metrics along  slices of the data in order to check for performance drops on specific subsets"
   ]
  },
  {
   "cell_type": "code",
   "execution_count": 15,
   "metadata": {},
   "outputs": [
    {
     "data": {
      "text/html": [
       "<div>\n",
       "<style scoped>\n",
       "    .dataframe tbody tr th:only-of-type {\n",
       "        vertical-align: middle;\n",
       "    }\n",
       "\n",
       "    .dataframe tbody tr th {\n",
       "        vertical-align: top;\n",
       "    }\n",
       "\n",
       "    .dataframe thead th {\n",
       "        text-align: right;\n",
       "    }\n",
       "</style>\n",
       "<table border=\"1\" class=\"dataframe\">\n",
       "  <thead>\n",
       "    <tr style=\"text-align: right;\">\n",
       "      <th></th>\n",
       "      <th>ID</th>\n",
       "      <th>STATE</th>\n",
       "      <th>TYPE_NAME</th>\n",
       "      <th>SPAN</th>\n",
       "      <th>URI</th>\n",
       "      <th>SPLIT</th>\n",
       "    </tr>\n",
       "  </thead>\n",
       "  <tbody>\n",
       "    <tr>\n",
       "      <th>0</th>\n",
       "      <td>11</td>\n",
       "      <td>published</td>\n",
       "      <td>ModelExportPath</td>\n",
       "      <td>1</td>\n",
       "      <td>/root/airflow/tfx/pipelines/titanic/Trainer/ou...</td>\n",
       "      <td></td>\n",
       "    </tr>\n",
       "  </tbody>\n",
       "</table>\n",
       "</div>"
      ],
      "text/plain": [
       "   ID      STATE        TYPE_NAME SPAN  \\\n",
       "0  11  published  ModelExportPath    1   \n",
       "\n",
       "                                                 URI SPLIT  \n",
       "0  /root/airflow/tfx/pipelines/titanic/Trainer/ou...        "
      ]
     },
     "execution_count": 15,
     "metadata": {},
     "output_type": "execute_result"
    }
   ],
   "source": [
    "artifacts_infos = store.get_artifacts_of_type_df(tfx_utils.TFXArtifactTypes.MODEL).reset_index()\n",
    "artifacts_infos"
   ]
  },
  {
   "cell_type": "code",
   "execution_count": 16,
   "metadata": {},
   "outputs": [
    {
     "data": {
      "text/plain": [
       "['Sex', 'Fare', 'Age', 'Embarked']"
      ]
     },
     "execution_count": 16,
     "metadata": {},
     "output_type": "execute_result"
    }
   ],
   "source": [
    "columns_for_slicing"
   ]
  },
  {
   "cell_type": "code",
   "execution_count": 18,
   "metadata": {
    "scrolled": false
   },
   "outputs": [
    {
     "data": {
      "application/vnd.jupyter.widget-view+json": {
       "model_id": "c32b1f8b6c1f434997687f5068b74b89",
       "version_major": 2,
       "version_minor": 0
      },
      "text/plain": [
       "U2xpY2luZ01ldHJpY3NWaWV3ZXIoY29uZmlnPXsnd2VpZ2h0ZWRFeGFtcGxlc0NvbHVtbic6ICdwb3N0X2V4cG9ydF9tZXRyaWNzL2V4YW1wbGVfY291bnQnfSwgZGF0YT1beydtZXRyaWNzJzrigKY=\n"
      ]
     },
     "metadata": {},
     "output_type": "display_data"
    }
   ],
   "source": [
    "store.display_tfma_analysis(11, columns_for_slicing[2])"
   ]
  },
  {
   "cell_type": "markdown",
   "metadata": {},
   "source": [
    "### Deploy"
   ]
  },
  {
   "cell_type": "markdown",
   "metadata": {},
   "source": [
    "#### Pipeline"
   ]
  },
  {
   "cell_type": "code",
   "execution_count": 12,
   "metadata": {
    "scrolled": false
   },
   "outputs": [
    {
     "name": "stdout",
     "output_type": "stream",
     "text": [
      "\n",
      "import os\n",
      "import logging\n",
      "import datetime\n",
      "\n",
      "from tfx.orchestration.airflow.airflow_runner import AirflowDAGRunner\n",
      "from tfx.orchestration.pipeline import PipelineDecorator\n",
      "from tfx.utils.dsl_utils import csv_input\n",
      "from tfx.proto import trainer_pb2, evaluator_pb2, pusher_pb2\n",
      "\n",
      "from tfx.components.example_gen.csv_example_gen.component import CsvExampleGen\n",
      "from tfx.components.statistics_gen.component import StatisticsGen\n",
      "from tfx.components.schema_gen.component import SchemaGen\n",
      "from tfx.components.example_validator.component import ExampleValidator\n",
      "from tfx.components.transform.component import Transform\n",
      "from tfx.components.trainer.component import Trainer\n",
      "from tfx.components.evaluator.component import Evaluator\n",
      "from tfx.components.model_validator.component import ModelValidator\n",
      "from tfx.components.pusher.component import Pusher\n",
      "\n",
      "\n",
      "data_dir = os.path.join(os.environ['DATA_DIR'], 'titanic')\n",
      "log_dir = os.path.join(os.environ['TFX_DIR'], 'logs')\n",
      "serving_model_dir = os.path.join(os.environ['SERVING_DIR'], 'serving_model', 'titanic')\n",
      "project_preprocessing_file = os.path.join(os.environ['DAGS_DIR'], 'titanic_preprocessing.py')\n",
      "project_training_file = os.path.join(os.environ['DAGS_DIR'], 'titanic_modeling.py')\n",
      "\n",
      "logger_overrides = dict([\n",
      "    ('log_root', log_dir),\n",
      "    ('log_level', logging.INFO)\n",
      "])\n",
      "\n",
      "airflow_config = dict([\n",
      "    ('schedule_interval', None),\n",
      "    ('start_date', datetime.datetime(2019, 1, 1))\n",
      "])\n",
      "\n",
      "@PipelineDecorator(\n",
      "    pipeline_name='titanic',\n",
      "    enable_cache=True,\n",
      "    metadata_db_root=os.environ['METADATA_DB_DIR'],\n",
      "    additional_pipeline_args=dict([('logger_args', logger_overrides)]),\n",
      "    pipeline_root=os.environ['PIPELINE_DIR']\n",
      ")\n",
      "def create_pipeline():\n",
      "    \n",
      "    pipeline = []\n",
      "    \n",
      "         \n",
      "    examples = csv_input(data_dir)\n",
      "\n",
      "    # Brings data into the pipeline\n",
      "    example_gen = CsvExampleGen(input_base=examples)\n",
      "    pipeline.append(example_gen)\n",
      "    \n",
      "    # Computes statistics over data for visualization and example validation.\n",
      "    statistics_gen = StatisticsGen(input_data=example_gen.outputs.examples)\n",
      "    pipeline.append(statistics_gen)\n",
      "\n",
      "    # Generates schema based on statistics files.\n",
      "    infer_schema = SchemaGen(stats=statistics_gen.outputs.output)\n",
      "    pipeline.append(infer_schema)\n",
      "\n",
      "    # Performs anomaly detection based on statistics and data schema.\n",
      "    validate_stats = ExampleValidator(\n",
      "        stats=statistics_gen.outputs.output,\n",
      "        schema=infer_schema.outputs.output\n",
      "    )\n",
      "    pipeline.append(validate_stats)\n",
      "\n",
      "    # Performs transformations and feature engineering in training and serving.\n",
      "    transform = Transform(\n",
      "        input_data=example_gen.outputs.examples,\n",
      "        schema=infer_schema.outputs.output,\n",
      "        module_file=project_preprocessing_file\n",
      "    )\n",
      "    pipeline.append(transform)\n",
      "\n",
      "    # Uses user-provided Python function that implements a model.\n",
      "    trainer = Trainer(\n",
      "        module_file=project_training_file,\n",
      "        transformed_examples=transform.outputs.transformed_examples,\n",
      "        schema=infer_schema.outputs.output,\n",
      "        transform_output=transform.outputs.transform_output,\n",
      "        train_args=trainer_pb2.TrainArgs(num_steps=1000),\n",
      "        eval_args=trainer_pb2.EvalArgs(num_steps=500)\n",
      "    )\n",
      "    pipeline.append(trainer)\n",
      "\n",
      "    # Uses TFMA to compute a evaluation statistics over features of a model.\n",
      "    model_analyzer = Evaluator(\n",
      "        examples=example_gen.outputs.examples,\n",
      "        model_exports=trainer.outputs.output,\n",
      "        feature_slicing_spec=evaluator_pb2.FeatureSlicingSpec(specs=[evaluator_pb2.SingleSlicingSpec(column_for_slicing=['Sex']),evaluator_pb2.SingleSlicingSpec(column_for_slicing=['Fare']),evaluator_pb2.SingleSlicingSpec(column_for_slicing=['Age']),evaluator_pb2.SingleSlicingSpec(column_for_slicing=['Embarked'])])\n",
      "    )\n",
      "    pipeline.append(model_analyzer)\n",
      "\n",
      "    # Performs quality validation of a candidate model (compared to a baseline).\n",
      "    model_validator = ModelValidator(\n",
      "        examples=example_gen.outputs.examples, model=trainer.outputs.output\n",
      "    )\n",
      "    pipeline.append(model_validator)\n",
      "\n",
      "    # Checks whether the model passed the validation steps and pushes the model to a file destination if check passed.\n",
      "    pusher = Pusher(\n",
      "        model_export=trainer.outputs.output,\n",
      "        model_blessing=model_validator.outputs.blessing,\n",
      "        push_destination=pusher_pb2.PushDestination(\n",
      "            filesystem=pusher_pb2.PushDestination.Filesystem(base_directory=serving_model_dir)\n",
      "        )\n",
      "    )\n",
      "    pipeline.append(pusher)\n",
      "\n",
      "    \n",
      "    \n",
      "    return pipeline\n",
      "\n",
      "pipeline = AirflowDAGRunner(airflow_config).run(create_pipeline())\n",
      "\n"
     ]
    }
   ],
   "source": [
    "pipeline_file = create_pipeline_file(\n",
    "    PipelineStep.DEPLOY,\n",
    "    project,\n",
    "    columns_for_slicing=columns_for_slicing,\n",
    "    train_steps=1000,\n",
    "    eval_steps=500,\n",
    ")\n",
    "write_pipeline_to_dags(pipeline_file, pipeline_name)\n",
    "print(pipeline_file)"
   ]
  },
  {
   "cell_type": "markdown",
   "metadata": {},
   "source": [
    "> Then go in [Airflow](http://localhost:8080/admin/airflow/graph?dag_id=titanic) and click **Refresh** in order to update the dag, then **Triger DAG** in order to run it"
   ]
  },
  {
   "cell_type": "markdown",
   "metadata": {},
   "source": [
    "#### Output SavedModel for Serving"
   ]
  },
  {
   "cell_type": "code",
   "execution_count": 13,
   "metadata": {},
   "outputs": [
    {
     "data": {
      "text/plain": [
       "['variables', 'assets', 'saved_model.pb']"
      ]
     },
     "execution_count": 13,
     "metadata": {},
     "output_type": "execute_result"
    }
   ],
   "source": [
    "saved_model_dir = os.path.join(os.environ[\"SERVING_DIR\"], \"serving_model\", project)\n",
    "saved_model_dir = os.path.join(saved_model_dir, os.listdir(saved_model_dir)[0])\n",
    "os.listdir(saved_model_dir)"
   ]
  },
  {
   "cell_type": "code",
   "execution_count": 14,
   "metadata": {},
   "outputs": [
    {
     "name": "stdout",
     "output_type": "stream",
     "text": [
      "\n",
      "MetaGraphDef with tag-set: 'serve' contains the following SignatureDefs:\n",
      "\n",
      "signature_def['classification']:\n",
      "  The given SavedModel SignatureDef contains the following input(s):\n",
      "    inputs['inputs'] tensor_info:\n",
      "        dtype: DT_STRING\n",
      "        shape: (-1)\n",
      "        name: input_example_tensor:0\n",
      "  The given SavedModel SignatureDef contains the following output(s):\n",
      "    outputs['classes'] tensor_info:\n",
      "        dtype: DT_STRING\n",
      "        shape: (-1, 2)\n",
      "        name: linear/head/Tile:0\n",
      "    outputs['scores'] tensor_info:\n",
      "        dtype: DT_FLOAT\n",
      "        shape: (-1, 2)\n",
      "        name: linear/head/predictions/probabilities:0\n",
      "  Method name is: tensorflow/serving/classify\n",
      "\n",
      "signature_def['predict']:\n",
      "  The given SavedModel SignatureDef contains the following input(s):\n",
      "    inputs['examples'] tensor_info:\n",
      "        dtype: DT_STRING\n",
      "        shape: (-1)\n",
      "        name: input_example_tensor:0\n",
      "  The given SavedModel SignatureDef contains the following output(s):\n",
      "    outputs['class_ids'] tensor_info:\n",
      "        dtype: DT_INT64\n",
      "        shape: (-1, 1)\n",
      "        name: linear/head/predictions/ExpandDims:0\n",
      "    outputs['classes'] tensor_info:\n",
      "        dtype: DT_STRING\n",
      "        shape: (-1, 1)\n",
      "        name: linear/head/predictions/str_classes:0\n",
      "    outputs['logistic'] tensor_info:\n",
      "        dtype: DT_FLOAT\n",
      "        shape: (-1, 1)\n",
      "        name: linear/head/predictions/logistic:0\n",
      "    outputs['logits'] tensor_info:\n",
      "        dtype: DT_FLOAT\n",
      "        shape: (-1, 1)\n",
      "        name: linear/linear_model/linear_model/linear_model/weighted_sum:0\n",
      "    outputs['probabilities'] tensor_info:\n",
      "        dtype: DT_FLOAT\n",
      "        shape: (-1, 2)\n",
      "        name: linear/head/predictions/probabilities:0\n",
      "  Method name is: tensorflow/serving/predict\n",
      "\n",
      "signature_def['regression']:\n",
      "  The given SavedModel SignatureDef contains the following input(s):\n",
      "    inputs['inputs'] tensor_info:\n",
      "        dtype: DT_STRING\n",
      "        shape: (-1)\n",
      "        name: input_example_tensor:0\n",
      "  The given SavedModel SignatureDef contains the following output(s):\n",
      "    outputs['outputs'] tensor_info:\n",
      "        dtype: DT_FLOAT\n",
      "        shape: (-1, 1)\n",
      "        name: linear/head/predictions/logistic:0\n",
      "  Method name is: tensorflow/serving/regress\n",
      "\n",
      "signature_def['serving_default']:\n",
      "  The given SavedModel SignatureDef contains the following input(s):\n",
      "    inputs['inputs'] tensor_info:\n",
      "        dtype: DT_STRING\n",
      "        shape: (-1)\n",
      "        name: input_example_tensor:0\n",
      "  The given SavedModel SignatureDef contains the following output(s):\n",
      "    outputs['classes'] tensor_info:\n",
      "        dtype: DT_STRING\n",
      "        shape: (-1, 2)\n",
      "        name: linear/head/Tile:0\n",
      "    outputs['scores'] tensor_info:\n",
      "        dtype: DT_FLOAT\n",
      "        shape: (-1, 2)\n",
      "        name: linear/head/predictions/probabilities:0\n",
      "  Method name is: tensorflow/serving/classify\n"
     ]
    }
   ],
   "source": [
    "!saved_model_cli show --dir $saved_model_dir --all"
   ]
  }
 ],
 "metadata": {
  "kernelspec": {
   "display_name": "Python 2",
   "language": "python",
   "name": "python2"
  },
  "language_info": {
   "codemirror_mode": {
    "name": "ipython",
    "version": 2
   },
   "file_extension": ".py",
   "mimetype": "text/x-python",
   "name": "python",
   "nbconvert_exporter": "python",
   "pygments_lexer": "ipython2",
   "version": "2.7.16"
  }
 },
 "nbformat": 4,
 "nbformat_minor": 2
}
